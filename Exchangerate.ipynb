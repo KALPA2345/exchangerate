{
  "nbformat": 4,
  "nbformat_minor": 0,
  "metadata": {
    "colab": {
      "name": "Exchangerate.ipynb",
      "provenance": [],
      "authorship_tag": "ABX9TyPykn+tICLMF+93eQNHy1/7",
      "include_colab_link": true
    },
    "kernelspec": {
      "name": "python3",
      "display_name": "Python 3"
    }
  },
  "cells": [
    {
      "cell_type": "markdown",
      "metadata": {
        "id": "view-in-github",
        "colab_type": "text"
      },
      "source": [
        "<a href=\"https://colab.research.google.com/github/KALPA2345/exchangerate/blob/master/Exchangerate.ipynb\" target=\"_parent\"><img src=\"https://colab.research.google.com/assets/colab-badge.svg\" alt=\"Open In Colab\"/></a>"
      ]
    },
    {
      "cell_type": "code",
      "metadata": {
        "id": "3uaiZm6Hjdzh",
        "colab_type": "code",
        "colab": {}
      },
      "source": [
        "base_url = \"https://api.exchangeratesapi.io/latest\""
      ],
      "execution_count": 0,
      "outputs": []
    },
    {
      "cell_type": "markdown",
      "metadata": {
        "id": "bdO80Z5gl1CV",
        "colab_type": "text"
      },
      "source": [
        "sending GET request"
      ]
    },
    {
      "cell_type": "code",
      "metadata": {
        "id": "praPw5QLlgm7",
        "colab_type": "code",
        "colab": {}
      },
      "source": [
        "import requests"
      ],
      "execution_count": 0,
      "outputs": []
    },
    {
      "cell_type": "code",
      "metadata": {
        "id": "M8dyoXNtmJD6",
        "colab_type": "code",
        "colab": {}
      },
      "source": [
        "response = requests.get(base_url)"
      ],
      "execution_count": 0,
      "outputs": []
    },
    {
      "cell_type": "markdown",
      "metadata": {
        "id": "S9YP8KiNmZOX",
        "colab_type": "text"
      },
      "source": [
        "investigating the response"
      ]
    },
    {
      "cell_type": "code",
      "metadata": {
        "id": "4gGdgk7hmdJ0",
        "colab_type": "code",
        "colab": {
          "base_uri": "https://localhost:8080/",
          "height": 35
        },
        "outputId": "b064ba36-53ec-473b-87f4-393e56bfb962"
      },
      "source": [
        "response.ok"
      ],
      "execution_count": 4,
      "outputs": [
        {
          "output_type": "execute_result",
          "data": {
            "text/plain": [
              "True"
            ]
          },
          "metadata": {
            "tags": []
          },
          "execution_count": 4
        }
      ]
    },
    {
      "cell_type": "code",
      "metadata": {
        "id": "2HJlboJGmppj",
        "colab_type": "code",
        "colab": {
          "base_uri": "https://localhost:8080/",
          "height": 35
        },
        "outputId": "7f798a49-79d6-4294-edf1-0d27830e5d0e"
      },
      "source": [
        "response.status_code"
      ],
      "execution_count": 5,
      "outputs": [
        {
          "output_type": "execute_result",
          "data": {
            "text/plain": [
              "200"
            ]
          },
          "metadata": {
            "tags": []
          },
          "execution_count": 5
        }
      ]
    },
    {
      "cell_type": "code",
      "metadata": {
        "id": "HjaDbEqinVDO",
        "colab_type": "code",
        "colab": {
          "base_uri": "https://localhost:8080/",
          "height": 55
        },
        "outputId": "4e206dfa-4ff8-48fe-8c7e-5f21f44c6f10"
      },
      "source": [
        "response.text"
      ],
      "execution_count": 7,
      "outputs": [
        {
          "output_type": "execute_result",
          "data": {
            "text/plain": [
              "'{\"rates\":{\"CAD\":1.5265,\"HKD\":8.4259,\"ISK\":155.9,\"PHP\":54.939,\"DKK\":7.4657,\"HUF\":354.76,\"CZK\":26.909,\"AUD\":1.7444,\"RON\":4.833,\"SEK\":10.9455,\"IDR\":17243.21,\"INR\":82.9275,\"BRL\":5.5956,\"RUB\":80.69,\"HRK\":7.6175,\"JPY\":118.33,\"THB\":35.665,\"CHF\":1.0558,\"SGD\":1.5479,\"PLN\":4.5586,\"BGN\":1.9558,\"TRY\":7.3233,\"CNY\":7.6709,\"NOK\":11.2143,\"NZD\":1.8128,\"ZAR\":19.6383,\"USD\":1.0867,\"MXN\":26.0321,\"ILS\":3.8919,\"GBP\":0.87565,\"KRW\":1322.49,\"MYR\":4.7136},\"base\":\"EUR\",\"date\":\"2020-04-09\"}'"
            ]
          },
          "metadata": {
            "tags": []
          },
          "execution_count": 7
        }
      ]
    },
    {
      "cell_type": "code",
      "metadata": {
        "id": "VoODFoF7ngIg",
        "colab_type": "code",
        "colab": {
          "base_uri": "https://localhost:8080/",
          "height": 55
        },
        "outputId": "8368e2c0-24e6-43c8-8190-463e6d069c55"
      },
      "source": [
        "response.content"
      ],
      "execution_count": 8,
      "outputs": [
        {
          "output_type": "execute_result",
          "data": {
            "text/plain": [
              "b'{\"rates\":{\"CAD\":1.5265,\"HKD\":8.4259,\"ISK\":155.9,\"PHP\":54.939,\"DKK\":7.4657,\"HUF\":354.76,\"CZK\":26.909,\"AUD\":1.7444,\"RON\":4.833,\"SEK\":10.9455,\"IDR\":17243.21,\"INR\":82.9275,\"BRL\":5.5956,\"RUB\":80.69,\"HRK\":7.6175,\"JPY\":118.33,\"THB\":35.665,\"CHF\":1.0558,\"SGD\":1.5479,\"PLN\":4.5586,\"BGN\":1.9558,\"TRY\":7.3233,\"CNY\":7.6709,\"NOK\":11.2143,\"NZD\":1.8128,\"ZAR\":19.6383,\"USD\":1.0867,\"MXN\":26.0321,\"ILS\":3.8919,\"GBP\":0.87565,\"KRW\":1322.49,\"MYR\":4.7136},\"base\":\"EUR\",\"date\":\"2020-04-09\"}'"
            ]
          },
          "metadata": {
            "tags": []
          },
          "execution_count": 8
        }
      ]
    },
    {
      "cell_type": "markdown",
      "metadata": {
        "id": "sAbEHeVJns2u",
        "colab_type": "text"
      },
      "source": [
        "Handling the JSON"
      ]
    },
    {
      "cell_type": "code",
      "metadata": {
        "id": "01WocUR0nwd3",
        "colab_type": "code",
        "colab": {
          "base_uri": "https://localhost:8080/",
          "height": 641
        },
        "outputId": "e6fd4f5d-2fab-4814-bee2-05ff37c762af"
      },
      "source": [
        "response.json()"
      ],
      "execution_count": 10,
      "outputs": [
        {
          "output_type": "execute_result",
          "data": {
            "text/plain": [
              "{'base': 'EUR',\n",
              " 'date': '2020-04-09',\n",
              " 'rates': {'AUD': 1.7444,\n",
              "  'BGN': 1.9558,\n",
              "  'BRL': 5.5956,\n",
              "  'CAD': 1.5265,\n",
              "  'CHF': 1.0558,\n",
              "  'CNY': 7.6709,\n",
              "  'CZK': 26.909,\n",
              "  'DKK': 7.4657,\n",
              "  'GBP': 0.87565,\n",
              "  'HKD': 8.4259,\n",
              "  'HRK': 7.6175,\n",
              "  'HUF': 354.76,\n",
              "  'IDR': 17243.21,\n",
              "  'ILS': 3.8919,\n",
              "  'INR': 82.9275,\n",
              "  'ISK': 155.9,\n",
              "  'JPY': 118.33,\n",
              "  'KRW': 1322.49,\n",
              "  'MXN': 26.0321,\n",
              "  'MYR': 4.7136,\n",
              "  'NOK': 11.2143,\n",
              "  'NZD': 1.8128,\n",
              "  'PHP': 54.939,\n",
              "  'PLN': 4.5586,\n",
              "  'RON': 4.833,\n",
              "  'RUB': 80.69,\n",
              "  'SEK': 10.9455,\n",
              "  'SGD': 1.5479,\n",
              "  'THB': 35.665,\n",
              "  'TRY': 7.3233,\n",
              "  'USD': 1.0867,\n",
              "  'ZAR': 19.6383}}"
            ]
          },
          "metadata": {
            "tags": []
          },
          "execution_count": 10
        }
      ]
    },
    {
      "cell_type": "code",
      "metadata": {
        "id": "80NX_eKIoDzq",
        "colab_type": "code",
        "colab": {
          "base_uri": "https://localhost:8080/",
          "height": 35
        },
        "outputId": "4f92d8f7-fc84-470e-ca77-444428d8cc17"
      },
      "source": [
        "type(response.json())"
      ],
      "execution_count": 11,
      "outputs": [
        {
          "output_type": "execute_result",
          "data": {
            "text/plain": [
              "dict"
            ]
          },
          "metadata": {
            "tags": []
          },
          "execution_count": 11
        }
      ]
    },
    {
      "cell_type": "code",
      "metadata": {
        "id": "oXp5pZv2oRZ0",
        "colab_type": "code",
        "colab": {}
      },
      "source": [
        "import json"
      ],
      "execution_count": 0,
      "outputs": []
    },
    {
      "cell_type": "markdown",
      "metadata": {
        "id": "k5FfnW0Uovpb",
        "colab_type": "text"
      },
      "source": [
        "The python json package\n",
        "\n",
        "--loads(string)---convert json formatted string to python object\n",
        "\n",
        "--dumps(obj)--convertpython object to regular string\n"
      ]
    },
    {
      "cell_type": "code",
      "metadata": {
        "id": "GiB8vV-IptvU",
        "colab_type": "code",
        "colab": {
          "base_uri": "https://localhost:8080/",
          "height": 55
        },
        "outputId": "4cd5fad8-d535-47d8-8b5e-415785ff0af4"
      },
      "source": [
        "json.dumps(response.json(), indent = 4)"
      ],
      "execution_count": 14,
      "outputs": [
        {
          "output_type": "execute_result",
          "data": {
            "text/plain": [
              "'{\\n    \"rates\": {\\n        \"CAD\": 1.5265,\\n        \"HKD\": 8.4259,\\n        \"ISK\": 155.9,\\n        \"PHP\": 54.939,\\n        \"DKK\": 7.4657,\\n        \"HUF\": 354.76,\\n        \"CZK\": 26.909,\\n        \"AUD\": 1.7444,\\n        \"RON\": 4.833,\\n        \"SEK\": 10.9455,\\n        \"IDR\": 17243.21,\\n        \"INR\": 82.9275,\\n        \"BRL\": 5.5956,\\n        \"RUB\": 80.69,\\n        \"HRK\": 7.6175,\\n        \"JPY\": 118.33,\\n        \"THB\": 35.665,\\n        \"CHF\": 1.0558,\\n        \"SGD\": 1.5479,\\n        \"PLN\": 4.5586,\\n        \"BGN\": 1.9558,\\n        \"TRY\": 7.3233,\\n        \"CNY\": 7.6709,\\n        \"NOK\": 11.2143,\\n        \"NZD\": 1.8128,\\n        \"ZAR\": 19.6383,\\n        \"USD\": 1.0867,\\n        \"MXN\": 26.0321,\\n        \"ILS\": 3.8919,\\n        \"GBP\": 0.87565,\\n        \"KRW\": 1322.49,\\n        \"MYR\": 4.7136\\n    },\\n    \"base\": \"EUR\",\\n    \"date\": \"2020-04-09\"\\n}'"
            ]
          },
          "metadata": {
            "tags": []
          },
          "execution_count": 14
        }
      ]
    },
    {
      "cell_type": "code",
      "metadata": {
        "id": "vUDH9S7iqSrm",
        "colab_type": "code",
        "colab": {
          "base_uri": "https://localhost:8080/",
          "height": 715
        },
        "outputId": "fbfc859b-1ab7-42a3-997b-079014ed7c11"
      },
      "source": [
        "print(json.dumps(response.json(), indent = 4))"
      ],
      "execution_count": 15,
      "outputs": [
        {
          "output_type": "stream",
          "text": [
            "{\n",
            "    \"rates\": {\n",
            "        \"CAD\": 1.5265,\n",
            "        \"HKD\": 8.4259,\n",
            "        \"ISK\": 155.9,\n",
            "        \"PHP\": 54.939,\n",
            "        \"DKK\": 7.4657,\n",
            "        \"HUF\": 354.76,\n",
            "        \"CZK\": 26.909,\n",
            "        \"AUD\": 1.7444,\n",
            "        \"RON\": 4.833,\n",
            "        \"SEK\": 10.9455,\n",
            "        \"IDR\": 17243.21,\n",
            "        \"INR\": 82.9275,\n",
            "        \"BRL\": 5.5956,\n",
            "        \"RUB\": 80.69,\n",
            "        \"HRK\": 7.6175,\n",
            "        \"JPY\": 118.33,\n",
            "        \"THB\": 35.665,\n",
            "        \"CHF\": 1.0558,\n",
            "        \"SGD\": 1.5479,\n",
            "        \"PLN\": 4.5586,\n",
            "        \"BGN\": 1.9558,\n",
            "        \"TRY\": 7.3233,\n",
            "        \"CNY\": 7.6709,\n",
            "        \"NOK\": 11.2143,\n",
            "        \"NZD\": 1.8128,\n",
            "        \"ZAR\": 19.6383,\n",
            "        \"USD\": 1.0867,\n",
            "        \"MXN\": 26.0321,\n",
            "        \"ILS\": 3.8919,\n",
            "        \"GBP\": 0.87565,\n",
            "        \"KRW\": 1322.49,\n",
            "        \"MYR\": 4.7136\n",
            "    },\n",
            "    \"base\": \"EUR\",\n",
            "    \"date\": \"2020-04-09\"\n",
            "}\n"
          ],
          "name": "stdout"
        }
      ]
    },
    {
      "cell_type": "code",
      "metadata": {
        "id": "PXkCrZCXqTft",
        "colab_type": "code",
        "colab": {
          "base_uri": "https://localhost:8080/",
          "height": 35
        },
        "outputId": "1e80f4d2-a36e-496e-b943-1478feb1be3c"
      },
      "source": [
        "response.json().keys()"
      ],
      "execution_count": 17,
      "outputs": [
        {
          "output_type": "execute_result",
          "data": {
            "text/plain": [
              "dict_keys(['rates', 'base', 'date'])"
            ]
          },
          "metadata": {
            "tags": []
          },
          "execution_count": 17
        }
      ]
    },
    {
      "cell_type": "markdown",
      "metadata": {
        "id": "Bnr2fzxsrlG4",
        "colab_type": "text"
      },
      "source": [
        "To specify parameter we incorporate it with in the url itself\n",
        "\n",
        "https://......?par1=value1&par2=value2"
      ]
    },
    {
      "cell_type": "code",
      "metadata": {
        "id": "vfW0qTMrsPVz",
        "colab_type": "code",
        "colab": {
          "base_uri": "https://localhost:8080/",
          "height": 35
        },
        "outputId": "ce0d3e41-444c-4dad-f52a-1544e830ae44"
      },
      "source": [
        "param_url = base_url + \"?symbols=USD,INR\"\n",
        "param_url"
      ],
      "execution_count": 19,
      "outputs": [
        {
          "output_type": "execute_result",
          "data": {
            "text/plain": [
              "'https://api.exchangeratesapi.io/latest?symbols=USD,INR'"
            ]
          },
          "metadata": {
            "tags": []
          },
          "execution_count": 19
        }
      ]
    },
    {
      "cell_type": "code",
      "metadata": {
        "id": "F-pxItdmtM-S",
        "colab_type": "code",
        "colab": {
          "base_uri": "https://localhost:8080/",
          "height": 35
        },
        "outputId": "2f13dedd-a4ea-4331-ef2b-5ccab24d1d33"
      },
      "source": [
        "response2 = requests.get(param_url)\n",
        "response2"
      ],
      "execution_count": 23,
      "outputs": [
        {
          "output_type": "execute_result",
          "data": {
            "text/plain": [
              "<Response [200]>"
            ]
          },
          "metadata": {
            "tags": []
          },
          "execution_count": 23
        }
      ]
    },
    {
      "cell_type": "code",
      "metadata": {
        "id": "vAJR4Zfqt2nK",
        "colab_type": "code",
        "colab": {
          "base_uri": "https://localhost:8080/",
          "height": 35
        },
        "outputId": "cb4edef0-818f-44fe-e773-f2fc0daff7f1"
      },
      "source": [
        "data = response2.json()\n",
        "data"
      ],
      "execution_count": 26,
      "outputs": [
        {
          "output_type": "execute_result",
          "data": {
            "text/plain": [
              "{'base': 'EUR', 'date': '2020-04-09', 'rates': {'INR': 82.9275, 'USD': 1.0867}}"
            ]
          },
          "metadata": {
            "tags": []
          },
          "execution_count": 26
        }
      ]
    },
    {
      "cell_type": "code",
      "metadata": {
        "id": "QtUXQCfIuNdQ",
        "colab_type": "code",
        "colab": {
          "base_uri": "https://localhost:8080/",
          "height": 35
        },
        "outputId": "9eadfba7-6a83-4bc5-930f-f322ae667bae"
      },
      "source": [
        "data['base']"
      ],
      "execution_count": 28,
      "outputs": [
        {
          "output_type": "execute_result",
          "data": {
            "text/plain": [
              "'EUR'"
            ]
          },
          "metadata": {
            "tags": []
          },
          "execution_count": 28
        }
      ]
    },
    {
      "cell_type": "code",
      "metadata": {
        "id": "fq7saTPXuP1Z",
        "colab_type": "code",
        "colab": {
          "base_uri": "https://localhost:8080/",
          "height": 35
        },
        "outputId": "e72b9982-63dc-4a42-c392-b8010a83a42a"
      },
      "source": [
        "data['rates']"
      ],
      "execution_count": 29,
      "outputs": [
        {
          "output_type": "execute_result",
          "data": {
            "text/plain": [
              "{'INR': 82.9275, 'USD': 1.0867}"
            ]
          },
          "metadata": {
            "tags": []
          },
          "execution_count": 29
        }
      ]
    },
    {
      "cell_type": "code",
      "metadata": {
        "id": "aYpcAhvNuawf",
        "colab_type": "code",
        "colab": {
          "base_uri": "https://localhost:8080/",
          "height": 35
        },
        "outputId": "d81fbece-359e-446e-c751-180bcd659de7"
      },
      "source": [
        "data['date']"
      ],
      "execution_count": 30,
      "outputs": [
        {
          "output_type": "execute_result",
          "data": {
            "text/plain": [
              "'2020-04-09'"
            ]
          },
          "metadata": {
            "tags": []
          },
          "execution_count": 30
        }
      ]
    },
    {
      "cell_type": "code",
      "metadata": {
        "id": "vARpUgkfue-K",
        "colab_type": "code",
        "colab": {}
      },
      "source": [
        ""
      ],
      "execution_count": 0,
      "outputs": []
    }
  ]
}