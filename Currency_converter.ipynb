{
  "nbformat": 4,
  "nbformat_minor": 0,
  "metadata": {
    "colab": {
      "name": "Currency_converter.ipynb",
      "provenance": [],
      "collapsed_sections": [],
      "authorship_tag": "ABX9TyNojIHuJzinM7XHYBYCvISM",
      "include_colab_link": true
    },
    "kernelspec": {
      "name": "python3",
      "display_name": "Python 3"
    }
  },
  "cells": [
    {
      "cell_type": "markdown",
      "metadata": {
        "id": "view-in-github",
        "colab_type": "text"
      },
      "source": [
        "<a href=\"https://colab.research.google.com/github/KALPA2345/exchangerate/blob/master/Currency_converter.ipynb\" target=\"_parent\"><img src=\"https://colab.research.google.com/assets/colab-badge.svg\" alt=\"Open In Colab\"/></a>"
      ]
    },
    {
      "cell_type": "markdown",
      "metadata": {
        "id": "uD7pvGT2-CWr",
        "colab_type": "text"
      },
      "source": [
        "Creating simple currency converter"
      ]
    },
    {
      "cell_type": "code",
      "metadata": {
        "id": "Qj4PSrgzE7-d",
        "colab_type": "code",
        "colab": {}
      },
      "source": [
        "import requests"
      ],
      "execution_count": 0,
      "outputs": []
    },
    {
      "cell_type": "code",
      "metadata": {
        "id": "cBtwRZh6_lKG",
        "colab_type": "code",
        "colab": {}
      },
      "source": [
        "base_url = \"https://api.exchangeratesapi.io\""
      ],
      "execution_count": 0,
      "outputs": []
    },
    {
      "cell_type": "code",
      "metadata": {
        "id": "rhc9JpfE-M7f",
        "colab_type": "code",
        "colab": {
          "base_uri": "https://localhost:8080/",
          "height": 127
        },
        "outputId": "e1e41083-d409-499f-c041-edcd583730f6"
      },
      "source": [
        "date = input(\"Please enter the date(in the format 'YYYY-MM-DD' or 'latest'): \")\n",
        "base = input(\"Convert from (currency): \")\n",
        "curr = input(\"convert to (currency): \")\n",
        "quan = float(input(\"How much {} do you want to convert: \".format(base)))\n",
        "\n",
        "url = base_url + \"/\" + date + \"?base=\" + base +\"&symbol\" + curr\n",
        "\n",
        "response = requests.get(url)\n",
        "\n",
        "if(response.ok is False):\n",
        "  print(\"\\nError {}:\".format(response.status_code))\n",
        "  print(response.json()['Error'])\n",
        "else:\n",
        "  data = response.json()\n",
        "  rate = data['rates'][curr]\n",
        "\n",
        "  result = quan*rate\n",
        "  print(\"\\n{0} {1} is equal {2} {3}, based upon exchange rates on {4}\".format(quan,base,result,curr,data['date']))"
      ],
      "execution_count": 13,
      "outputs": [
        {
          "output_type": "stream",
          "text": [
            "Please enter the date(in the format 'YYYY-MM-DD' or 'latest'): 2009-10-25\n",
            "Convert from (currency): GBP\n",
            "convert to (currency): USD\n",
            "How much GBP do you want to convert: 50\n",
            "\n",
            "50.0 GBP is equal 81.87963366999999 USD, based upon exchange rates on 2009-10-23\n"
          ],
          "name": "stdout"
        }
      ]
    },
    {
      "cell_type": "code",
      "metadata": {
        "id": "5Dz3YXJ6EA1M",
        "colab_type": "code",
        "colab": {
          "base_uri": "https://localhost:8080/",
          "height": 35
        },
        "outputId": "4468c045-ca8b-449a-d523-33dbe6f50fd0"
      },
      "source": [
        "response.status_code"
      ],
      "execution_count": 11,
      "outputs": [
        {
          "output_type": "execute_result",
          "data": {
            "text/plain": [
              "400"
            ]
          },
          "metadata": {
            "tags": []
          },
          "execution_count": 11
        }
      ]
    },
    {
      "cell_type": "code",
      "metadata": {
        "id": "5wQHAec3Fzn0",
        "colab_type": "code",
        "colab": {
          "base_uri": "https://localhost:8080/",
          "height": 35
        },
        "outputId": "82af7fc4-2b54-475b-d67b-1e29bf438d42"
      },
      "source": [
        "url"
      ],
      "execution_count": 12,
      "outputs": [
        {
          "output_type": "execute_result",
          "data": {
            "text/plain": [
              "'https://api.exchangeratesapi.io/2008-10-26?base=INR&symbolUSD'"
            ]
          },
          "metadata": {
            "tags": []
          },
          "execution_count": 12
        }
      ]
    }
  ]
}