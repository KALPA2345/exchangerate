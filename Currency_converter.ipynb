{
  "nbformat": 4,
  "nbformat_minor": 0,
  "metadata": {
    "colab": {
      "name": "Currency_converter.ipynb",
      "provenance": [],
      "collapsed_sections": [],
      "authorship_tag": "ABX9TyPol72NdT6NF17giasXLSfQ",
      "include_colab_link": true
    },
    "kernelspec": {
      "name": "python3",
      "display_name": "Python 3"
    }
  },
  "cells": [
    {
      "cell_type": "markdown",
      "metadata": {
        "id": "view-in-github",
        "colab_type": "text"
      },
      "source": [
        "<a href=\"https://colab.research.google.com/github/KALPA2345/exchangerate/blob/master/Currency_converter.ipynb\" target=\"_parent\"><img src=\"https://colab.research.google.com/assets/colab-badge.svg\" alt=\"Open In Colab\"/></a>"
      ]
    },
    {
      "cell_type": "markdown",
      "metadata": {
        "id": "uD7pvGT2-CWr",
        "colab_type": "text"
      },
      "source": [
        "Creating simple currency converter"
      ]
    },
    {
      "cell_type": "code",
      "metadata": {
        "id": "cBtwRZh6_lKG",
        "colab_type": "code",
        "colab": {}
      },
      "source": [
        "base_url = \"https://api.exchangeratesapi.io\""
      ],
      "execution_count": 0,
      "outputs": []
    },
    {
      "cell_type": "code",
      "metadata": {
        "id": "rhc9JpfE-M7f",
        "colab_type": "code",
        "colab": {}
      },
      "source": [
        "date = input(\"Please enter the date(in the format 'YYYY-MM-DD' or 'latest'): \")\n",
        "base = input(\"Convert from (currency): \")\n",
        "curr = input(\"convert to (currency): \")\n",
        "quan = float(input(\"How much {} do you want to convert: \".format(base)))\n",
        "\n",
        "url = base_url + \"/\" + date + \"?base=\" + base +\"&symbol\" + curr\n",
        "\n",
        "response = requests.get(url)\n",
        "\n",
        "if (response.ok is False):\n",
        "  print(\"\\nError {}:\".format(response.status_code))\n",
        "  print(response.json()[Error])\n",
        "else:\n",
        "  data = response.json()\n",
        "  rate = data['rates'][curr]\n",
        "\n",
        "  result = quan*rate\n",
        "  print(\"\\n{0} {1} is equal {2} {3}, based upon exchange rates on {4}\".format(quan,base,result,curr,data['date']))"
      ],
      "execution_count": 0,
      "outputs": []
    }
  ]
}